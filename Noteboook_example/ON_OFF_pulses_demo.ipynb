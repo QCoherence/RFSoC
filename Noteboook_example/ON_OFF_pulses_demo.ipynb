{
 "cells": [
  {
   "cell_type": "markdown",
   "id": "b928df7a-fbea-403d-bf26-4f0023624b14",
   "metadata": {},
   "source": [
    "This sequence is a good exemple using the loop in and out while using two pulses in the loop in. It first send a trigger to another apparatus (for exemple a microwave sources) and play two pulses, one of the wanted amplitude and a second one of amplitude 0. It can be used to substract a setup background. \n",
    "Beacause there is more than one pulses in loop in the dead time management can be a bit more tricky.\n",
    "\n",
    "This notebook can also be used to understand how to play with the data format when you have interleaved pulses. "
   ]
  },
  {
   "cell_type": "markdown",
   "id": "2bb01b6c-d6cb-4d63-acd4-7c7309a8d3f1",
   "metadata": {},
   "source": [
    "# Import library and stations"
   ]
  },
  {
   "cell_type": "code",
   "execution_count": 10,
   "id": "82d3e3c7-fcd1-47bf-bc28-7fc066b2e273",
   "metadata": {},
   "outputs": [],
   "source": [
    "from qcodes.instrument.specialized_parameters import ElapsedTimeParameter\n",
    "from qcodes.dataset.plotting import plot_dataset,plot_by_id\n",
    "from qcodes.logger.logger import start_all_logging\n",
    "from mpl_toolkits.mplot3d import Axes3D\n",
    "from tqdm.notebook import tqdm \n",
    "from qcodes.loops import Loop\n",
    "from matplotlib import cm\n",
    "from cycler import cycler\n",
    "from pprint import pprint\n",
    "from time import sleep\n",
    "\n",
    "import matplotlib.pyplot as plt\n",
    "import plotly.express as px\n",
    "import pickle as pk\n",
    "import qcodes as qc\n",
    "import pandas as pd\n",
    "import numpy as np\n",
    "import datetime\n",
    "import warnings\n",
    "import time\n",
    "import json\n",
    "import sys\n",
    "import os"
   ]
  },
  {
   "cell_type": "code",
   "execution_count": 20,
   "id": "75fb9e94-fc32-4ee3-a7ca-8f5b34304dd5",
   "metadata": {},
   "outputs": [],
   "source": [
    "# path to the RFSoC driver \n",
    "sys.path.append(r'C:\\Users\\nicolas.roch\\measurement\\Experiment\\Drivers')\n",
    "\n",
    "from RFSoC import RFSoC\n",
    "try:\n",
    "    rfsoc = RFSoC('RFSoC', 'TCPIP::{}::{}::SOCKET'.format('192.168.0.11',5001))\n",
    "except KeyError as er:\n",
    "    rfsoc.close_all()\n",
    "    rfsoc = RFSoC('RFSoC', 'TCPIP::{}::{}::SOCKET'.format('192.168.0.11',5001))\n",
    "\n",
    "    \n",
    "# to be launched once after a rfsoc reboot  \n",
    "rfsoc.reset_PLL()\n",
    "\n",
    "# whether you want to print or not information for rfsoc debugging\n",
    "rfsoc.debug_mode = False\n",
    "# visual representation of the sequence played / Not suitable for very long sequence \n",
    "# (i.e. more than few hundred of pulses) \n",
    "rfsoc.display_sequence = True  "
   ]
  },
  {
   "cell_type": "markdown",
   "id": "0fa7808e-d0e5-48c9-b0ec-8ef8aa04a871",
   "metadata": {},
   "source": [
    "## Convert Volt in dBm an vice-versa"
   ]
  },
  {
   "cell_type": "code",
   "execution_count": 21,
   "id": "c50d0510-73bd-467d-9aec-79acc38884c7",
   "metadata": {},
   "outputs": [],
   "source": [
    "def powtov(power) :\n",
    "    poww = 10**(power/10)/1000\n",
    "    v = np.sqrt(50*poww*2)\n",
    "    return v\n",
    "def vtopow(v) :\n",
    "    poww = v**2/(100)\n",
    "    power = 10*np.log10(poww)+30\n",
    "    return power"
   ]
  },
  {
   "cell_type": "markdown",
   "id": "3ff8632b-6563-4b0a-8134-eee2183c707c",
   "metadata": {},
   "source": [
    "# Rfsoc initialisation"
   ]
  },
  {
   "cell_type": "markdown",
   "id": "63a2fbc6-0ec7-4f70-9cb7-2acc731f0e3c",
   "metadata": {},
   "source": [
    "## Pulses parameters"
   ]
  },
  {
   "cell_type": "markdown",
   "id": "d3c338cb-625f-4668-91a7-9823143dba1e",
   "metadata": {},
   "source": [
    "### Channels "
   ]
  },
  {
   "cell_type": "code",
   "execution_count": 22,
   "id": "b2f99ccc-45b1-44a3-8ddf-79cc20940ab5",
   "metadata": {},
   "outputs": [],
   "source": [
    "channel_ro = 1 \n",
    "channel_demod = [1]"
   ]
  },
  {
   "cell_type": "markdown",
   "id": "4a28e1f3-3c1d-4fea-89bb-765e3e80316b",
   "metadata": {},
   "source": [
    "###  Pulses parameters"
   ]
  },
  {
   "cell_type": "code",
   "execution_count": 23,
   "id": "1cd9dee7-5de7-4a41-9940-c2bf1ed79273",
   "metadata": {},
   "outputs": [],
   "source": [
    "#rfsoc dac parameters\n",
    "amp_sig = 0.9 # signal amplitude peak-to-peaks in Volt \n",
    "freq_sig = 100 # MHz\n",
    "dc_off = 0 # DC shift in Volt \n",
    "phase_sig = 0  # degree \n",
    "\n",
    "\n",
    "# ADC\n",
    "param_sin_1 = {'amp':1,\n",
    "               'freq':freq_sig,\n",
    "               'dc_offset':dc_off,\n",
    "               'phase_offset':phase_sig*np.pi/180}\n",
    "\n",
    "\n",
    "# DAC\n",
    "param_sin_I_on = {'amp':amp_sig,\n",
    "               'freq':freq_sig,\n",
    "               'dc_offset':dc_off,\n",
    "               'phase_offset':(phase_sig)*np.pi/180}\n",
    "\n",
    "param_sin_I_off = {'amp':0,\n",
    "               'freq':freq_sig,\n",
    "               'dc_offset':dc_off,\n",
    "               'phase_offset':(phase_sig)*np.pi/180}"
   ]
  },
  {
   "cell_type": "markdown",
   "id": "18190b22-f54b-41c4-b1b6-246d2a2578ed",
   "metadata": {},
   "source": [
    "### Time vectors in µs"
   ]
  },
  {
   "cell_type": "code",
   "execution_count": 24,
   "id": "a9611d64-12b4-4417-8bfa-c47f5360c9d3",
   "metadata": {},
   "outputs": [],
   "source": [
    "time_start_trigger = rfsoc.time_conversion(0) #µs\n",
    "trigger_length     = rfsoc.time_conversion(1) \n",
    "wait_after_trig    = rfsoc.time_conversion(10)\n",
    "#generation\n",
    "time_start_dac     = wait_after_trig + trigger_length\n",
    "#acquisition\n",
    "time_shift         = rfsoc.time_conversion(0.5)\n",
    "time_start_adc     = time_start_dac + time_shift\n",
    "acq_length         = rfsoc.time_conversion(10)\n",
    "dead_time          = rfsoc.time_conversion(4) # deadtime at the end of loop in \n",
    "\n",
    "#number of averages\n",
    "average = 5"
   ]
  },
  {
   "cell_type": "markdown",
   "id": "1f7d0e1a-310d-416d-a514-54ba543239b9",
   "metadata": {},
   "source": [
    "### Pulses sequence creation"
   ]
  },
  {
   "cell_type": "code",
   "execution_count": 16,
   "id": "44016c58-4086-464d-866f-481164858684",
   "metadata": {},
   "outputs": [],
   "source": [
    "pulse_sin_I_on = dict(label='ON', \n",
    "                      module='DAC', \n",
    "                      channel=channel_ro, \n",
    "                      mode='sin', \n",
    "                      start=time_start_dac, \n",
    "                      length=acq_length+2*time_shift,\n",
    "                      dead_time = acq_length +2*time_shift+2*dead_time,\n",
    "                      repetitions=average,\n",
    "                      param=param_sin_I_on, \n",
    "                      LUT=True,\n",
    "                      starting_pointer=0,\n",
    "                      parent=None)\n",
    "\n",
    "pulse_sin_I_off = dict(label='OFF', \n",
    "                      module='DAC', \n",
    "                      channel=channel_ro, \n",
    "                      mode='sin', \n",
    "                      start=pulse_sin_I_on['start'] + pulse_sin_I_on['length']+dead_time, \n",
    "                      length=acq_length+2*time_shift,\n",
    "                      dead_time = dead_time,\n",
    "                      repetitions=average,\n",
    "                      param=param_sin_I_off, \n",
    "                      LUT=True,\n",
    "                      starting_pointer=0,\n",
    "                      parent=None)\n",
    "\n",
    "\n",
    "record_sin_on = dict(label='record_ON', \n",
    "                      module='ADC', \n",
    "                      channel=channel_ro,\n",
    "                      LUT = True,\n",
    "                      mode='sin',\n",
    "                      demodulation_channels=channel_demod,\n",
    "                      start=time_start_adc, \n",
    "                      length=acq_length, \n",
    "                      dead_time = pulse_sin_I_on['length']+2*(dead_time)+2*time_shift,\n",
    "                      repetitions=average,\n",
    "                      param=[param_sin_1], \n",
    "                      parent=None)\n",
    "\n",
    "record_sin_off = dict(label='record_OFF', \n",
    "                      module='ADC', \n",
    "                      channel=channel_ro,\n",
    "                      LUT = True,\n",
    "                      mode='sin',\n",
    "                      demodulation_channels=channel_demod,\n",
    "                      start=pulse_sin_I_on['start'] + pulse_sin_I_on['length'] + dead_time + time_shift, \n",
    "                      length=acq_length, \n",
    "                      dead_time = dead_time,\n",
    "                      repetitions=average,\n",
    "                      param=[param_sin_1], \n",
    "                      parent=None)\n",
    "\n",
    "trigger_pulse = dict(label='trigger', \n",
    "                     module='DAC', \n",
    "                     channel=channel_ro, \n",
    "                     mode='trigger', \n",
    "                     start =time_start_trigger, \n",
    "                     length=trigger_length, \n",
    "                     repetitions=1,\n",
    "                     LUT=True,\n",
    "                     starting_pointer=0,\n",
    "                     param=None,\n",
    "                     parent=None)\n",
    "                     \n",
    "pulses = pd.DataFrame()\n",
    "pulses = pd.concat([pulses, pd.DataFrame.from_records([trigger_pulse])], ignore_index=True)\n",
    "pulses = pd.concat([pulses, pd.DataFrame.from_records([pulse_sin_I_on])], ignore_index=True)\n",
    "pulses = pd.concat([pulses, pd.DataFrame.from_records([pulse_sin_I_off])], ignore_index=True)\n",
    "pulses = pd.concat([pulses, pd.DataFrame.from_records([record_sin_on])], ignore_index=True)\n",
    "pulses = pd.concat([pulses, pd.DataFrame.from_records([record_sin_off])], ignore_index=True)\n",
    "\n",
    "rfsoc.pulses = pulses"
   ]
  },
  {
   "cell_type": "markdown",
   "id": "99621e98-f255-4684-9324-e9308c1574f7",
   "metadata": {},
   "source": [
    "## Rfsoc setting, memory filling and sequencing"
   ]
  },
  {
   "cell_type": "code",
   "execution_count": 17,
   "id": "735c7c0c-4696-42ba-8c58-aebb64483d81",
   "metadata": {
    "tags": []
   },
   "outputs": [
    {
     "data": {
      "application/vnd.plotly.v1+json": {
       "config": {
        "plotlyServerURL": "https://plot.ly"
       },
       "data": [
        {
         "customdata": [
          [
           "trigger",
           0,
           1
          ],
          [
           "wait 3",
           1,
           11
          ],
          [
           "ON",
           11,
           22
          ],
          [
           "wait 4",
           22,
           26
          ],
          [
           "OFF",
           26,
           37
          ],
          [
           "wait 5",
           37,
           41
          ]
         ],
         "hovertemplate": "label: %{customdata[0]: s} <br>start: %{customdata[1]:.3f} <br>stop: %{customdata[2]:.3f}",
         "marker": {
          "color": [
           "#306CC7",
           "#D3D3D3",
           "#234E90",
           "#808080",
           "#234E90",
           "#808080"
          ]
         },
         "orientation": "h",
         "text": [
          "trigger",
          "wait 3",
          "ON",
          "wait 4",
          "OFF",
          "wait 5"
         ],
         "type": "bar",
         "x": [
          1,
          10,
          11,
          4,
          11,
          4
         ],
         "xaxis": "x",
         "y": [
          "DAC ch1",
          "DAC ch1",
          "DAC ch1",
          "DAC ch1",
          "DAC ch1",
          "DAC ch1"
         ],
         "yaxis": "y"
        },
        {
         "customdata": [
          [
           "wait 0",
           0,
           11.5
          ],
          [
           "record_ON",
           11.5,
           21.5
          ],
          [
           "wait 1",
           21.5,
           26.5
          ],
          [
           "record_OFF",
           26.5,
           36.5
          ],
          [
           "wait 2",
           36.5,
           40.5
          ]
         ],
         "hovertemplate": "label: %{customdata[0]: s} <br>start: %{customdata[1]:.3f} <br>stop: %{customdata[2]:.3f}",
         "marker": {
          "color": [
           "#D3D3D3",
           "#913608",
           "#808080",
           "#913608",
           "#808080"
          ]
         },
         "orientation": "h",
         "text": [
          "wait 0",
          "record_ON",
          "wait 1",
          "record_OFF",
          "wait 2"
         ],
         "type": "bar",
         "x": [
          11.5,
          10,
          5,
          10,
          4
         ],
         "xaxis": "x2",
         "y": [
          "ADC ch1",
          "ADC ch1",
          "ADC ch1",
          "ADC ch1",
          "ADC ch1"
         ],
         "yaxis": "y2"
        }
       ],
       "layout": {
        "autosize": true,
        "showlegend": false,
        "template": {
         "data": {
          "bar": [
           {
            "error_x": {
             "color": "#2a3f5f"
            },
            "error_y": {
             "color": "#2a3f5f"
            },
            "marker": {
             "line": {
              "color": "#E5ECF6",
              "width": 0.5
             },
             "pattern": {
              "fillmode": "overlay",
              "size": 10,
              "solidity": 0.2
             }
            },
            "type": "bar"
           }
          ],
          "barpolar": [
           {
            "marker": {
             "line": {
              "color": "#E5ECF6",
              "width": 0.5
             },
             "pattern": {
              "fillmode": "overlay",
              "size": 10,
              "solidity": 0.2
             }
            },
            "type": "barpolar"
           }
          ],
          "carpet": [
           {
            "aaxis": {
             "endlinecolor": "#2a3f5f",
             "gridcolor": "white",
             "linecolor": "white",
             "minorgridcolor": "white",
             "startlinecolor": "#2a3f5f"
            },
            "baxis": {
             "endlinecolor": "#2a3f5f",
             "gridcolor": "white",
             "linecolor": "white",
             "minorgridcolor": "white",
             "startlinecolor": "#2a3f5f"
            },
            "type": "carpet"
           }
          ],
          "choropleth": [
           {
            "colorbar": {
             "outlinewidth": 0,
             "ticks": ""
            },
            "type": "choropleth"
           }
          ],
          "contour": [
           {
            "colorbar": {
             "outlinewidth": 0,
             "ticks": ""
            },
            "colorscale": [
             [
              0,
              "#0d0887"
             ],
             [
              0.1111111111111111,
              "#46039f"
             ],
             [
              0.2222222222222222,
              "#7201a8"
             ],
             [
              0.3333333333333333,
              "#9c179e"
             ],
             [
              0.4444444444444444,
              "#bd3786"
             ],
             [
              0.5555555555555556,
              "#d8576b"
             ],
             [
              0.6666666666666666,
              "#ed7953"
             ],
             [
              0.7777777777777778,
              "#fb9f3a"
             ],
             [
              0.8888888888888888,
              "#fdca26"
             ],
             [
              1,
              "#f0f921"
             ]
            ],
            "type": "contour"
           }
          ],
          "contourcarpet": [
           {
            "colorbar": {
             "outlinewidth": 0,
             "ticks": ""
            },
            "type": "contourcarpet"
           }
          ],
          "heatmap": [
           {
            "colorbar": {
             "outlinewidth": 0,
             "ticks": ""
            },
            "colorscale": [
             [
              0,
              "#0d0887"
             ],
             [
              0.1111111111111111,
              "#46039f"
             ],
             [
              0.2222222222222222,
              "#7201a8"
             ],
             [
              0.3333333333333333,
              "#9c179e"
             ],
             [
              0.4444444444444444,
              "#bd3786"
             ],
             [
              0.5555555555555556,
              "#d8576b"
             ],
             [
              0.6666666666666666,
              "#ed7953"
             ],
             [
              0.7777777777777778,
              "#fb9f3a"
             ],
             [
              0.8888888888888888,
              "#fdca26"
             ],
             [
              1,
              "#f0f921"
             ]
            ],
            "type": "heatmap"
           }
          ],
          "heatmapgl": [
           {
            "colorbar": {
             "outlinewidth": 0,
             "ticks": ""
            },
            "colorscale": [
             [
              0,
              "#0d0887"
             ],
             [
              0.1111111111111111,
              "#46039f"
             ],
             [
              0.2222222222222222,
              "#7201a8"
             ],
             [
              0.3333333333333333,
              "#9c179e"
             ],
             [
              0.4444444444444444,
              "#bd3786"
             ],
             [
              0.5555555555555556,
              "#d8576b"
             ],
             [
              0.6666666666666666,
              "#ed7953"
             ],
             [
              0.7777777777777778,
              "#fb9f3a"
             ],
             [
              0.8888888888888888,
              "#fdca26"
             ],
             [
              1,
              "#f0f921"
             ]
            ],
            "type": "heatmapgl"
           }
          ],
          "histogram": [
           {
            "marker": {
             "pattern": {
              "fillmode": "overlay",
              "size": 10,
              "solidity": 0.2
             }
            },
            "type": "histogram"
           }
          ],
          "histogram2d": [
           {
            "colorbar": {
             "outlinewidth": 0,
             "ticks": ""
            },
            "colorscale": [
             [
              0,
              "#0d0887"
             ],
             [
              0.1111111111111111,
              "#46039f"
             ],
             [
              0.2222222222222222,
              "#7201a8"
             ],
             [
              0.3333333333333333,
              "#9c179e"
             ],
             [
              0.4444444444444444,
              "#bd3786"
             ],
             [
              0.5555555555555556,
              "#d8576b"
             ],
             [
              0.6666666666666666,
              "#ed7953"
             ],
             [
              0.7777777777777778,
              "#fb9f3a"
             ],
             [
              0.8888888888888888,
              "#fdca26"
             ],
             [
              1,
              "#f0f921"
             ]
            ],
            "type": "histogram2d"
           }
          ],
          "histogram2dcontour": [
           {
            "colorbar": {
             "outlinewidth": 0,
             "ticks": ""
            },
            "colorscale": [
             [
              0,
              "#0d0887"
             ],
             [
              0.1111111111111111,
              "#46039f"
             ],
             [
              0.2222222222222222,
              "#7201a8"
             ],
             [
              0.3333333333333333,
              "#9c179e"
             ],
             [
              0.4444444444444444,
              "#bd3786"
             ],
             [
              0.5555555555555556,
              "#d8576b"
             ],
             [
              0.6666666666666666,
              "#ed7953"
             ],
             [
              0.7777777777777778,
              "#fb9f3a"
             ],
             [
              0.8888888888888888,
              "#fdca26"
             ],
             [
              1,
              "#f0f921"
             ]
            ],
            "type": "histogram2dcontour"
           }
          ],
          "mesh3d": [
           {
            "colorbar": {
             "outlinewidth": 0,
             "ticks": ""
            },
            "type": "mesh3d"
           }
          ],
          "parcoords": [
           {
            "line": {
             "colorbar": {
              "outlinewidth": 0,
              "ticks": ""
             }
            },
            "type": "parcoords"
           }
          ],
          "pie": [
           {
            "automargin": true,
            "type": "pie"
           }
          ],
          "scatter": [
           {
            "fillpattern": {
             "fillmode": "overlay",
             "size": 10,
             "solidity": 0.2
            },
            "type": "scatter"
           }
          ],
          "scatter3d": [
           {
            "line": {
             "colorbar": {
              "outlinewidth": 0,
              "ticks": ""
             }
            },
            "marker": {
             "colorbar": {
              "outlinewidth": 0,
              "ticks": ""
             }
            },
            "type": "scatter3d"
           }
          ],
          "scattercarpet": [
           {
            "marker": {
             "colorbar": {
              "outlinewidth": 0,
              "ticks": ""
             }
            },
            "type": "scattercarpet"
           }
          ],
          "scattergeo": [
           {
            "marker": {
             "colorbar": {
              "outlinewidth": 0,
              "ticks": ""
             }
            },
            "type": "scattergeo"
           }
          ],
          "scattergl": [
           {
            "marker": {
             "colorbar": {
              "outlinewidth": 0,
              "ticks": ""
             }
            },
            "type": "scattergl"
           }
          ],
          "scattermapbox": [
           {
            "marker": {
             "colorbar": {
              "outlinewidth": 0,
              "ticks": ""
             }
            },
            "type": "scattermapbox"
           }
          ],
          "scatterpolar": [
           {
            "marker": {
             "colorbar": {
              "outlinewidth": 0,
              "ticks": ""
             }
            },
            "type": "scatterpolar"
           }
          ],
          "scatterpolargl": [
           {
            "marker": {
             "colorbar": {
              "outlinewidth": 0,
              "ticks": ""
             }
            },
            "type": "scatterpolargl"
           }
          ],
          "scatterternary": [
           {
            "marker": {
             "colorbar": {
              "outlinewidth": 0,
              "ticks": ""
             }
            },
            "type": "scatterternary"
           }
          ],
          "surface": [
           {
            "colorbar": {
             "outlinewidth": 0,
             "ticks": ""
            },
            "colorscale": [
             [
              0,
              "#0d0887"
             ],
             [
              0.1111111111111111,
              "#46039f"
             ],
             [
              0.2222222222222222,
              "#7201a8"
             ],
             [
              0.3333333333333333,
              "#9c179e"
             ],
             [
              0.4444444444444444,
              "#bd3786"
             ],
             [
              0.5555555555555556,
              "#d8576b"
             ],
             [
              0.6666666666666666,
              "#ed7953"
             ],
             [
              0.7777777777777778,
              "#fb9f3a"
             ],
             [
              0.8888888888888888,
              "#fdca26"
             ],
             [
              1,
              "#f0f921"
             ]
            ],
            "type": "surface"
           }
          ],
          "table": [
           {
            "cells": {
             "fill": {
              "color": "#EBF0F8"
             },
             "line": {
              "color": "white"
             }
            },
            "header": {
             "fill": {
              "color": "#C8D4E3"
             },
             "line": {
              "color": "white"
             }
            },
            "type": "table"
           }
          ]
         },
         "layout": {
          "annotationdefaults": {
           "arrowcolor": "#2a3f5f",
           "arrowhead": 0,
           "arrowwidth": 1
          },
          "autotypenumbers": "strict",
          "coloraxis": {
           "colorbar": {
            "outlinewidth": 0,
            "ticks": ""
           }
          },
          "colorscale": {
           "diverging": [
            [
             0,
             "#8e0152"
            ],
            [
             0.1,
             "#c51b7d"
            ],
            [
             0.2,
             "#de77ae"
            ],
            [
             0.3,
             "#f1b6da"
            ],
            [
             0.4,
             "#fde0ef"
            ],
            [
             0.5,
             "#f7f7f7"
            ],
            [
             0.6,
             "#e6f5d0"
            ],
            [
             0.7,
             "#b8e186"
            ],
            [
             0.8,
             "#7fbc41"
            ],
            [
             0.9,
             "#4d9221"
            ],
            [
             1,
             "#276419"
            ]
           ],
           "sequential": [
            [
             0,
             "#0d0887"
            ],
            [
             0.1111111111111111,
             "#46039f"
            ],
            [
             0.2222222222222222,
             "#7201a8"
            ],
            [
             0.3333333333333333,
             "#9c179e"
            ],
            [
             0.4444444444444444,
             "#bd3786"
            ],
            [
             0.5555555555555556,
             "#d8576b"
            ],
            [
             0.6666666666666666,
             "#ed7953"
            ],
            [
             0.7777777777777778,
             "#fb9f3a"
            ],
            [
             0.8888888888888888,
             "#fdca26"
            ],
            [
             1,
             "#f0f921"
            ]
           ],
           "sequentialminus": [
            [
             0,
             "#0d0887"
            ],
            [
             0.1111111111111111,
             "#46039f"
            ],
            [
             0.2222222222222222,
             "#7201a8"
            ],
            [
             0.3333333333333333,
             "#9c179e"
            ],
            [
             0.4444444444444444,
             "#bd3786"
            ],
            [
             0.5555555555555556,
             "#d8576b"
            ],
            [
             0.6666666666666666,
             "#ed7953"
            ],
            [
             0.7777777777777778,
             "#fb9f3a"
            ],
            [
             0.8888888888888888,
             "#fdca26"
            ],
            [
             1,
             "#f0f921"
            ]
           ]
          },
          "colorway": [
           "#636efa",
           "#EF553B",
           "#00cc96",
           "#ab63fa",
           "#FFA15A",
           "#19d3f3",
           "#FF6692",
           "#B6E880",
           "#FF97FF",
           "#FECB52"
          ],
          "font": {
           "color": "#2a3f5f"
          },
          "geo": {
           "bgcolor": "white",
           "lakecolor": "white",
           "landcolor": "#E5ECF6",
           "showlakes": true,
           "showland": true,
           "subunitcolor": "white"
          },
          "hoverlabel": {
           "align": "left"
          },
          "hovermode": "closest",
          "mapbox": {
           "style": "light"
          },
          "paper_bgcolor": "white",
          "plot_bgcolor": "#E5ECF6",
          "polar": {
           "angularaxis": {
            "gridcolor": "white",
            "linecolor": "white",
            "ticks": ""
           },
           "bgcolor": "#E5ECF6",
           "radialaxis": {
            "gridcolor": "white",
            "linecolor": "white",
            "ticks": ""
           }
          },
          "scene": {
           "xaxis": {
            "backgroundcolor": "#E5ECF6",
            "gridcolor": "white",
            "gridwidth": 2,
            "linecolor": "white",
            "showbackground": true,
            "ticks": "",
            "zerolinecolor": "white"
           },
           "yaxis": {
            "backgroundcolor": "#E5ECF6",
            "gridcolor": "white",
            "gridwidth": 2,
            "linecolor": "white",
            "showbackground": true,
            "ticks": "",
            "zerolinecolor": "white"
           },
           "zaxis": {
            "backgroundcolor": "#E5ECF6",
            "gridcolor": "white",
            "gridwidth": 2,
            "linecolor": "white",
            "showbackground": true,
            "ticks": "",
            "zerolinecolor": "white"
           }
          },
          "shapedefaults": {
           "line": {
            "color": "#2a3f5f"
           }
          },
          "ternary": {
           "aaxis": {
            "gridcolor": "white",
            "linecolor": "white",
            "ticks": ""
           },
           "baxis": {
            "gridcolor": "white",
            "linecolor": "white",
            "ticks": ""
           },
           "bgcolor": "#E5ECF6",
           "caxis": {
            "gridcolor": "white",
            "linecolor": "white",
            "ticks": ""
           }
          },
          "title": {
           "x": 0.05
          },
          "xaxis": {
           "automargin": true,
           "gridcolor": "white",
           "linecolor": "white",
           "ticks": "",
           "title": {
            "standoff": 15
           },
           "zerolinecolor": "white",
           "zerolinewidth": 2
          },
          "yaxis": {
           "automargin": true,
           "gridcolor": "white",
           "linecolor": "white",
           "ticks": "",
           "title": {
            "standoff": 15
           },
           "zerolinecolor": "white",
           "zerolinewidth": 2
          }
         }
        },
        "xaxis": {
         "anchor": "y",
         "autorange": true,
         "domain": [
          0,
          1
         ],
         "matches": "x2",
         "range": [
          0,
          43.1578947368421
         ],
         "showticklabels": false,
         "type": "linear"
        },
        "xaxis2": {
         "anchor": "y2",
         "autorange": true,
         "domain": [
          0,
          1
         ],
         "range": [
          0,
          43.1578947368421
         ],
         "type": "linear"
        },
        "yaxis": {
         "anchor": "x",
         "autorange": true,
         "domain": [
          0.575,
          1
         ],
         "range": [
          -0.5,
          0.5
         ],
         "type": "category"
        },
        "yaxis2": {
         "anchor": "x2",
         "autorange": true,
         "domain": [
          0,
          0.425
         ],
         "range": [
          -0.5,
          0.5
         ],
         "type": "category"
        }
       }
      },
      "image/png": "[encoded data removed]",
      "text/html": [
       "<div>                            <div id=\"d7808e4e-f9d2-4d15-a1d1-94b57719fa68\" class=\"plotly-graph-div\" style=\"height:525px; width:100%;\"></div>            <script type=\"text/javascript\">                require([\"plotly\"], function(Plotly) {                    window.PLOTLYENV=window.PLOTLYENV || {};                                    if (document.getElementById(\"d7808e4e-f9d2-4d15-a1d1-94b57719fa68\")) {                    Plotly.newPlot(                        \"d7808e4e-f9d2-4d15-a1d1-94b57719fa68\",                        [{\"customdata\":[[\"trigger\",0.0,1.0],[\"wait 3\",1.0,11.0],[\"ON\",11.0,22.0],[\"wait 4\",22.0,26.0],[\"OFF\",26.0,37.0],[\"wait 5\",37.0,41.0]],\"hovertemplate\":\"label: %{customdata[0]: s} <br>start: %{customdata[1]:.3f} <br>stop: %{customdata[2]:.3f}\",\"marker\":{\"color\":[\"#306CC7\",\"#D3D3D3\",\"#234E90\",\"#808080\",\"#234E90\",\"#808080\"]},\"orientation\":\"h\",\"text\":[\"trigger\",\"wait 3\",\"ON\",\"wait 4\",\"OFF\",\"wait 5\"],\"x\":[1.0,10.0,11.0,4.0,11.0,4.0],\"y\":[\"DAC ch1\",\"DAC ch1\",\"DAC ch1\",\"DAC ch1\",\"DAC ch1\",\"DAC ch1\"],\"type\":\"bar\",\"xaxis\":\"x\",\"yaxis\":\"y\"},{\"customdata\":[[\"wait 0\",0.0,11.5],[\"record_ON\",11.5,21.5],[\"wait 1\",21.5,26.5],[\"record_OFF\",26.5,36.5],[\"wait 2\",36.5,40.5]],\"hovertemplate\":\"label: %{customdata[0]: s} <br>start: %{customdata[1]:.3f} <br>stop: %{customdata[2]:.3f}\",\"marker\":{\"color\":[\"#D3D3D3\",\"#913608\",\"#808080\",\"#913608\",\"#808080\"]},\"orientation\":\"h\",\"text\":[\"wait 0\",\"record_ON\",\"wait 1\",\"record_OFF\",\"wait 2\"],\"x\":[11.5,10.0,5.0,10.0,4.0],\"y\":[\"ADC ch1\",\"ADC ch1\",\"ADC ch1\",\"ADC ch1\",\"ADC ch1\"],\"type\":\"bar\",\"xaxis\":\"x2\",\"yaxis\":\"y2\"}],                        {\"template\":{\"data\":{\"histogram2dcontour\":[{\"type\":\"histogram2dcontour\",\"colorbar\":{\"outlinewidth\":0,\"ticks\":\"\"},\"colorscale\":[[0.0,\"#0d0887\"],[0.1111111111111111,\"#46039f\"],[0.2222222222222222,\"#7201a8\"],[0.3333333333333333,\"#9c179e\"],[0.4444444444444444,\"#bd3786\"],[0.5555555555555556,\"#d8576b\"],[0.6666666666666666,\"#ed7953\"],[0.7777777777777778,\"#fb9f3a\"],[0.8888888888888888,\"#fdca26\"],[1.0,\"#f0f921\"]]}],\"choropleth\":[{\"type\":\"choropleth\",\"colorbar\":{\"outlinewidth\":0,\"ticks\":\"\"}}],\"histogram2d\":[{\"type\":\"histogram2d\",\"colorbar\":{\"outlinewidth\":0,\"ticks\":\"\"},\"colorscale\":[[0.0,\"#0d0887\"],[0.1111111111111111,\"#46039f\"],[0.2222222222222222,\"#7201a8\"],[0.3333333333333333,\"#9c179e\"],[0.4444444444444444,\"#bd3786\"],[0.5555555555555556,\"#d8576b\"],[0.6666666666666666,\"#ed7953\"],[0.7777777777777778,\"#fb9f3a\"],[0.8888888888888888,\"#fdca26\"],[1.0,\"#f0f921\"]]}],\"heatmap\":[{\"type\":\"heatmap\",\"colorbar\":{\"outlinewidth\":0,\"ticks\":\"\"},\"colorscale\":[[0.0,\"#0d0887\"],[0.1111111111111111,\"#46039f\"],[0.2222222222222222,\"#7201a8\"],[0.3333333333333333,\"#9c179e\"],[0.4444444444444444,\"#bd3786\"],[0.5555555555555556,\"#d8576b\"],[0.6666666666666666,\"#ed7953\"],[0.7777777777777778,\"#fb9f3a\"],[0.8888888888888888,\"#fdca26\"],[1.0,\"#f0f921\"]]}],\"heatmapgl\":[{\"type\":\"heatmapgl\",\"colorbar\":{\"outlinewidth\":0,\"ticks\":\"\"},\"colorscale\":[[0.0,\"#0d0887\"],[0.1111111111111111,\"#46039f\"],[0.2222222222222222,\"#7201a8\"],[0.3333333333333333,\"#9c179e\"],[0.4444444444444444,\"#bd3786\"],[0.5555555555555556,\"#d8576b\"],[0.6666666666666666,\"#ed7953\"],[0.7777777777777778,\"#fb9f3a\"],[0.8888888888888888,\"#fdca26\"],[1.0,\"#f0f921\"]]}],\"contourcarpet\":[{\"type\":\"contourcarpet\",\"colorbar\":{\"outlinewidth\":0,\"ticks\":\"\"}}],\"contour\":[{\"type\":\"contour\",\"colorbar\":{\"outlinewidth\":0,\"ticks\":\"\"},\"colorscale\":[[0.0,\"#0d0887\"],[0.1111111111111111,\"#46039f\"],[0.2222222222222222,\"#7201a8\"],[0.3333333333333333,\"#9c179e\"],[0.4444444444444444,\"#bd3786\"],[0.5555555555555556,\"#d8576b\"],[0.6666666666666666,\"#ed7953\"],[0.7777777777777778,\"#fb9f3a\"],[0.8888888888888888,\"#fdca26\"],[1.0,\"#f0f921\"]]}],\"surface\":[{\"type\":\"surface\",\"colorbar\":{\"outlinewidth\":0,\"ticks\":\"\"},\"colorscale\":[[0.0,\"#0d0887\"],[0.1111111111111111,\"#46039f\"],[0.2222222222222222,\"#7201a8\"],[0.3333333333333333,\"#9c179e\"],[0.4444444444444444,\"#bd3786\"],[0.5555555555555556,\"#d8576b\"],[0.6666666666666666,\"#ed7953\"],[0.7777777777777778,\"#fb9f3a\"],[0.8888888888888888,\"#fdca26\"],[1.0,\"#f0f921\"]]}],\"mesh3d\":[{\"type\":\"mesh3d\",\"colorbar\":{\"outlinewidth\":0,\"ticks\":\"\"}}],\"scatter\":[{\"fillpattern\":{\"fillmode\":\"overlay\",\"size\":10,\"solidity\":0.2},\"type\":\"scatter\"}],\"parcoords\":[{\"type\":\"parcoords\",\"line\":{\"colorbar\":{\"outlinewidth\":0,\"ticks\":\"\"}}}],\"scatterpolargl\":[{\"type\":\"scatterpolargl\",\"marker\":{\"colorbar\":{\"outlinewidth\":0,\"ticks\":\"\"}}}],\"bar\":[{\"error_x\":{\"color\":\"#2a3f5f\"},\"error_y\":{\"color\":\"#2a3f5f\"},\"marker\":{\"line\":{\"color\":\"#E5ECF6\",\"width\":0.5},\"pattern\":{\"fillmode\":\"overlay\",\"size\":10,\"solidity\":0.2}},\"type\":\"bar\"}],\"scattergeo\":[{\"type\":\"scattergeo\",\"marker\":{\"colorbar\":{\"outlinewidth\":0,\"ticks\":\"\"}}}],\"scatterpolar\":[{\"type\":\"scatterpolar\",\"marker\":{\"colorbar\":{\"outlinewidth\":0,\"ticks\":\"\"}}}],\"histogram\":[{\"marker\":{\"pattern\":{\"fillmode\":\"overlay\",\"size\":10,\"solidity\":0.2}},\"type\":\"histogram\"}],\"scattergl\":[{\"type\":\"scattergl\",\"marker\":{\"colorbar\":{\"outlinewidth\":0,\"ticks\":\"\"}}}],\"scatter3d\":[{\"type\":\"scatter3d\",\"line\":{\"colorbar\":{\"outlinewidth\":0,\"ticks\":\"\"}},\"marker\":{\"colorbar\":{\"outlinewidth\":0,\"ticks\":\"\"}}}],\"scattermapbox\":[{\"type\":\"scattermapbox\",\"marker\":{\"colorbar\":{\"outlinewidth\":0,\"ticks\":\"\"}}}],\"scatterternary\":[{\"type\":\"scatterternary\",\"marker\":{\"colorbar\":{\"outlinewidth\":0,\"ticks\":\"\"}}}],\"scattercarpet\":[{\"type\":\"scattercarpet\",\"marker\":{\"colorbar\":{\"outlinewidth\":0,\"ticks\":\"\"}}}],\"carpet\":[{\"aaxis\":{\"endlinecolor\":\"#2a3f5f\",\"gridcolor\":\"white\",\"linecolor\":\"white\",\"minorgridcolor\":\"white\",\"startlinecolor\":\"#2a3f5f\"},\"baxis\":{\"endlinecolor\":\"#2a3f5f\",\"gridcolor\":\"white\",\"linecolor\":\"white\",\"minorgridcolor\":\"white\",\"startlinecolor\":\"#2a3f5f\"},\"type\":\"carpet\"}],\"table\":[{\"cells\":{\"fill\":{\"color\":\"#EBF0F8\"},\"line\":{\"color\":\"white\"}},\"header\":{\"fill\":{\"color\":\"#C8D4E3\"},\"line\":{\"color\":\"white\"}},\"type\":\"table\"}],\"barpolar\":[{\"marker\":{\"line\":{\"color\":\"#E5ECF6\",\"width\":0.5},\"pattern\":{\"fillmode\":\"overlay\",\"size\":10,\"solidity\":0.2}},\"type\":\"barpolar\"}],\"pie\":[{\"automargin\":true,\"type\":\"pie\"}]},\"layout\":{\"autotypenumbers\":\"strict\",\"colorway\":[\"#636efa\",\"#EF553B\",\"#00cc96\",\"#ab63fa\",\"#FFA15A\",\"#19d3f3\",\"#FF6692\",\"#B6E880\",\"#FF97FF\",\"#FECB52\"],\"font\":{\"color\":\"#2a3f5f\"},\"hovermode\":\"closest\",\"hoverlabel\":{\"align\":\"left\"},\"paper_bgcolor\":\"white\",\"plot_bgcolor\":\"#E5ECF6\",\"polar\":{\"bgcolor\":\"#E5ECF6\",\"angularaxis\":{\"gridcolor\":\"white\",\"linecolor\":\"white\",\"ticks\":\"\"},\"radialaxis\":{\"gridcolor\":\"white\",\"linecolor\":\"white\",\"ticks\":\"\"}},\"ternary\":{\"bgcolor\":\"#E5ECF6\",\"aaxis\":{\"gridcolor\":\"white\",\"linecolor\":\"white\",\"ticks\":\"\"},\"baxis\":{\"gridcolor\":\"white\",\"linecolor\":\"white\",\"ticks\":\"\"},\"caxis\":{\"gridcolor\":\"white\",\"linecolor\":\"white\",\"ticks\":\"\"}},\"coloraxis\":{\"colorbar\":{\"outlinewidth\":0,\"ticks\":\"\"}},\"colorscale\":{\"sequential\":[[0.0,\"#0d0887\"],[0.1111111111111111,\"#46039f\"],[0.2222222222222222,\"#7201a8\"],[0.3333333333333333,\"#9c179e\"],[0.4444444444444444,\"#bd3786\"],[0.5555555555555556,\"#d8576b\"],[0.6666666666666666,\"#ed7953\"],[0.7777777777777778,\"#fb9f3a\"],[0.8888888888888888,\"#fdca26\"],[1.0,\"#f0f921\"]],\"sequentialminus\":[[0.0,\"#0d0887\"],[0.1111111111111111,\"#46039f\"],[0.2222222222222222,\"#7201a8\"],[0.3333333333333333,\"#9c179e\"],[0.4444444444444444,\"#bd3786\"],[0.5555555555555556,\"#d8576b\"],[0.6666666666666666,\"#ed7953\"],[0.7777777777777778,\"#fb9f3a\"],[0.8888888888888888,\"#fdca26\"],[1.0,\"#f0f921\"]],\"diverging\":[[0,\"#8e0152\"],[0.1,\"#c51b7d\"],[0.2,\"#de77ae\"],[0.3,\"#f1b6da\"],[0.4,\"#fde0ef\"],[0.5,\"#f7f7f7\"],[0.6,\"#e6f5d0\"],[0.7,\"#b8e186\"],[0.8,\"#7fbc41\"],[0.9,\"#4d9221\"],[1,\"#276419\"]]},\"xaxis\":{\"gridcolor\":\"white\",\"linecolor\":\"white\",\"ticks\":\"\",\"title\":{\"standoff\":15},\"zerolinecolor\":\"white\",\"automargin\":true,\"zerolinewidth\":2},\"yaxis\":{\"gridcolor\":\"white\",\"linecolor\":\"white\",\"ticks\":\"\",\"title\":{\"standoff\":15},\"zerolinecolor\":\"white\",\"automargin\":true,\"zerolinewidth\":2},\"scene\":{\"xaxis\":{\"backgroundcolor\":\"#E5ECF6\",\"gridcolor\":\"white\",\"linecolor\":\"white\",\"showbackground\":true,\"ticks\":\"\",\"zerolinecolor\":\"white\",\"gridwidth\":2},\"yaxis\":{\"backgroundcolor\":\"#E5ECF6\",\"gridcolor\":\"white\",\"linecolor\":\"white\",\"showbackground\":true,\"ticks\":\"\",\"zerolinecolor\":\"white\",\"gridwidth\":2},\"zaxis\":{\"backgroundcolor\":\"#E5ECF6\",\"gridcolor\":\"white\",\"linecolor\":\"white\",\"showbackground\":true,\"ticks\":\"\",\"zerolinecolor\":\"white\",\"gridwidth\":2}},\"shapedefaults\":{\"line\":{\"color\":\"#2a3f5f\"}},\"annotationdefaults\":{\"arrowcolor\":\"#2a3f5f\",\"arrowhead\":0,\"arrowwidth\":1},\"geo\":{\"bgcolor\":\"white\",\"landcolor\":\"#E5ECF6\",\"subunitcolor\":\"white\",\"showland\":true,\"showlakes\":true,\"lakecolor\":\"white\"},\"title\":{\"x\":0.05},\"mapbox\":{\"style\":\"light\"}}},\"xaxis\":{\"anchor\":\"y\",\"domain\":[0.0,1.0],\"matches\":\"x2\",\"showticklabels\":false},\"yaxis\":{\"anchor\":\"x\",\"domain\":[0.575,1.0]},\"xaxis2\":{\"anchor\":\"y2\",\"domain\":[0.0,1.0]},\"yaxis2\":{\"anchor\":\"x2\",\"domain\":[0.0,0.425]},\"showlegend\":false},                        {\"responsive\": true}                    ).then(function(){\n",
       "                            \n",
       "var gd = document.getElementById('d7808e4e-f9d2-4d15-a1d1-94b57719fa68');\n",
       "var x = new MutationObserver(function (mutations, observer) {{\n",
       "        var display = window.getComputedStyle(gd).display;\n",
       "        if (!display || display === 'none') {{\n",
       "            console.log([gd, 'removed!']);\n",
       "            Plotly.purge(gd);\n",
       "            observer.disconnect();\n",
       "        }}\n",
       "}});\n",
       "\n",
       "// Listen for the removal of the full notebook cells\n",
       "var notebookContainer = gd.closest('#notebook-container');\n",
       "if (notebookContainer) {{\n",
       "    x.observe(notebookContainer, {childList: true});\n",
       "}}\n",
       "\n",
       "// Listen for the clearing of the current output cell\n",
       "var outputEl = gd.closest('.output');\n",
       "if (outputEl) {{\n",
       "    x.observe(outputEl, {childList: true});\n",
       "}}\n",
       "\n",
       "                        })                };                });            </script>        </div>"
      ]
     },
     "metadata": {},
     "output_type": "display_data"
    },
    {
     "data": {
      "text/plain": [
       "\"\\nNote that when using 'repetitions' the all sequence is not displayed, only the two first ones are shown. \\nThe dark color indicate this repetition.  \\n\\n\""
      ]
     },
     "execution_count": 17,
     "metadata": {},
     "output_type": "execute_result"
    }
   ],
   "source": [
    "n_points = 100 # number of time the displayed sequence is played (loop out in the doc) \n",
    "\n",
    "rfsoc.acquisition_mode('INT')\n",
    "rfsoc.n_points(n_points)\n",
    "rfsoc.process_sequencing_IQ_table()\n",
    "\n",
    "\n",
    "\"\"\"\n",
    "Note that when using 'repetitions' the all sequence is not displayed, only the two first ones are shown. \n",
    "The dark color indicate this repetition.  \n",
    "\n",
    "\"\"\""
   ]
  },
  {
   "cell_type": "code",
   "execution_count": 18,
   "id": "9d9179af-822f-4799-aa68-4c6604af0436",
   "metadata": {},
   "outputs": [
    {
     "data": {
      "application/vnd.jupyter.widget-view+json": {
       "model_id": "76c980f58c2947ef98290f68a5057d5c",
       "version_major": 2,
       "version_minor": 0
      },
      "text/plain": [
       "IntProgress(value=0, max=1000)"
      ]
     },
     "metadata": {},
     "output_type": "display_data"
    },
    {
     "name": "stderr",
     "output_type": "stream",
     "text": [
      "Data curruption: rfSoC did not send all data points(0/1000).\n",
      "Data curruption: rfSoC did not send all data points(0/1000).\n",
      "Data curruption: rfSoC did not send all data points(0/1000).\n",
      "Data curruption: rfSoC did not send all data points(0/1000).\n"
     ]
    },
    {
     "ename": "KeyboardInterrupt",
     "evalue": "",
     "output_type": "error",
     "traceback": [
      "\u001b[1;31m---------------------------------------------------------------------------\u001b[0m",
      "\u001b[1;31mKeyboardInterrupt\u001b[0m                         Traceback (most recent call last)",
      "Cell \u001b[1;32mIn [18], line 1\u001b[0m\n\u001b[1;32m----> 1\u001b[0m res \u001b[38;5;241m=\u001b[39m  rfsoc\u001b[38;5;241m.\u001b[39mIQINT_ALL\u001b[38;5;241m.\u001b[39mget()\n",
      "File \u001b[1;32m~\\Anaconda3\\envs\\qcodes\\lib\\site-packages\\qcodes\\parameters\\parameter_base.py:570\u001b[0m, in \u001b[0;36mParameterBase._wrap_get.<locals>.get_wrapper\u001b[1;34m(*args, **kwargs)\u001b[0m\n\u001b[0;32m    565\u001b[0m     \u001b[38;5;28;01mraise\u001b[39;00m \u001b[38;5;167;01mNotImplementedError\u001b[39;00m(\n\u001b[0;32m    566\u001b[0m         \u001b[38;5;124mf\u001b[39m\u001b[38;5;124m\"\u001b[39m\u001b[38;5;124mTrying to get an abstract parameter: \u001b[39m\u001b[38;5;132;01m{\u001b[39;00m\u001b[38;5;28mself\u001b[39m\u001b[38;5;241m.\u001b[39mfull_name\u001b[38;5;132;01m}\u001b[39;00m\u001b[38;5;124m\"\u001b[39m\n\u001b[0;32m    567\u001b[0m     )\n\u001b[0;32m    568\u001b[0m \u001b[38;5;28;01mtry\u001b[39;00m:\n\u001b[0;32m    569\u001b[0m     \u001b[38;5;66;03m# There might be cases where a .get also has args/kwargs\u001b[39;00m\n\u001b[1;32m--> 570\u001b[0m     raw_value \u001b[38;5;241m=\u001b[39m get_function(\u001b[38;5;241m*\u001b[39margs, \u001b[38;5;241m*\u001b[39m\u001b[38;5;241m*\u001b[39mkwargs)\n\u001b[0;32m    572\u001b[0m     value \u001b[38;5;241m=\u001b[39m \u001b[38;5;28mself\u001b[39m\u001b[38;5;241m.\u001b[39m_from_raw_value_to_value(raw_value)\n\u001b[0;32m    574\u001b[0m     \u001b[38;5;28;01mif\u001b[39;00m \u001b[38;5;28mself\u001b[39m\u001b[38;5;241m.\u001b[39m_validate_on_get:\n",
      "File \u001b[1;32m~\\measurement\\Experiment\\Drivers\\RFSoC.py:135\u001b[0m, in \u001b[0;36mIQINT_ALL.get_raw\u001b[1;34m(self)\u001b[0m\n\u001b[0;32m    132\u001b[0m \u001b[38;5;28;01mdef\u001b[39;00m \u001b[38;5;21mget_raw\u001b[39m(\u001b[38;5;28mself\u001b[39m):\n\u001b[0;32m    133\u001b[0m     time\u001b[38;5;241m.\u001b[39msleep(\u001b[38;5;241m0.2\u001b[39m)\n\u001b[1;32m--> 135\u001b[0m     data_retI, data_retQ \u001b[38;5;241m=\u001b[39m \u001b[38;5;28;43mself\u001b[39;49m\u001b[38;5;241;43m.\u001b[39;49m\u001b[43m_instrument\u001b[49m\u001b[38;5;241;43m.\u001b[39;49m\u001b[43mget_readout_pulse\u001b[49m\u001b[43m(\u001b[49m\u001b[43m)\u001b[49m\n\u001b[0;32m    137\u001b[0m     \u001b[38;5;28;01mreturn\u001b[39;00m data_retI, data_retQ\n",
      "File \u001b[1;32m~\\measurement\\Experiment\\Drivers\\RFSoC.py:2283\u001b[0m, in \u001b[0;36mRFSoC.get_readout_pulse\u001b[1;34m(self)\u001b[0m\n\u001b[0;32m   2281\u001b[0m empty_packet_count \u001b[38;5;241m=\u001b[39m \u001b[38;5;241m0\u001b[39m\n\u001b[0;32m   2282\u001b[0m \u001b[38;5;28mself\u001b[39m\u001b[38;5;241m.\u001b[39mwrite(\u001b[38;5;124m\"\u001b[39m\u001b[38;5;124mSEQ:STOP\u001b[39m\u001b[38;5;124m\"\u001b[39m)\n\u001b[1;32m-> 2283\u001b[0m \u001b[43mtime\u001b[49m\u001b[38;5;241;43m.\u001b[39;49m\u001b[43msleep\u001b[49m\u001b[43m(\u001b[49m\u001b[38;5;241;43m2\u001b[39;49m\u001b[43m)\u001b[49m\n\u001b[0;32m   2284\u001b[0m \u001b[38;5;28;01mwhile\u001b[39;00m \u001b[38;5;28;01mTrue\u001b[39;00m:\n\u001b[0;32m   2285\u001b[0m     \u001b[38;5;28;01mtry\u001b[39;00m:\n",
      "\u001b[1;31mKeyboardInterrupt\u001b[0m: "
     ]
    }
   ],
   "source": [
    "res =  rfsoc.IQINT_ALL.get()"
   ]
  },
  {
   "cell_type": "code",
   "execution_count": null,
   "id": "d9af088e-cb05-4f2c-8da1-8245b23a43b4",
   "metadata": {},
   "outputs": [],
   "source": [
    "I_no_avg = res[0][0].reshape(rfsoc.n_points(), 2*average)[:,2:] #we trash the first average point \n",
    "Q_no_avg = res[1][0].reshape(rfsoc.n_points(), 2*average)[:,2:] #we trash the first average point \n",
    "\n",
    "I_no_avg_on  = I_no_avg[:,::2]\n",
    "I_no_avg_off = I_no_avg[:,1::2]\n",
    "\n",
    "Q_no_avg_on  = Q_no_avg[:,::2]\n",
    "Q_no_avg_off = Q_no_avg[:,1::2]\n",
    "\n",
    "amp_no_avg_off = 2*np.sqrt(I_no_avg_off**2+Q_no_avg_off**2)/param_sin_1['amp']\n",
    "amp_no_avg_on = 2*np.sqrt(I_no_avg_on**2+Q_no_avg_on**2)/param_sin_1['amp']\n",
    "\n",
    "ph_no_avg_off = np.arctan(Q_no_avg_off/I_no_avg_off)  \n",
    "ph_no_avg_off_unwrap = np.unwrap(2*ph_no_avg_off, axis=0)/2\n",
    "\n",
    "ph_no_avg_on = np.arctan(Q_no_avg_on/I_no_avg_on)  \n",
    "ph_no_avg_on_unwrap = np.unwrap(2*ph_no_avg_on, axis=0)/2\n",
    "\n",
    "\n",
    "V_out_on = np.average(amp_no_avg_on, axis=1)\n",
    "V_out_off = np.average(amp_no_avg_off, axis=1)\n",
    "\n",
    "phi_on = np.average(ph_no_avg_on_unwrap,axis=1)\n",
    "phi_off = np.average(ph_no_avg_off_unwrap,axis=1)\n",
    "\n",
    "# P_out_off = vtopow(np.average(amp_no_avg_off, axis=1))\n",
    "\n",
    "\n",
    "fig, ax = plt.subplots(1, 2,sharex=True, figsize=(10,4))\n",
    "\n",
    "ax[0].ticklabel_format(useOffset=False)\n",
    "\n",
    "ax[0].set_xlabel(r'Sample')\n",
    "ax[0].set_ylabel(r'$V$ [mV]')\n",
    "ax[1].set_ylabel(r'$\\theta$ [rad]')\n",
    "\n",
    "ax[0].plot(V_out_on*1.e3,'-',lw=1.25,label='on')\n",
    "ax[0].plot(V_out_off*1.e3,'-',lw=1.25,label='off')\n",
    "\n",
    "ax[1].plot(phi_on,'-',lw=1.25,label='on')\n",
    "ax[1].plot(phi_off,'-',lw=1.25,label='off')\n",
    "\n",
    "ax[0].legend(loc='best')\n",
    "fig.tight_layout()"
   ]
  },
  {
   "cell_type": "code",
   "execution_count": null,
   "id": "067143b1-7a36-4890-8642-670c61a19877",
   "metadata": {},
   "outputs": [],
   "source": []
  },
  {
   "cell_type": "code",
   "execution_count": null,
   "id": "c591bf6a-7c7e-4155-a097-372abbe44356",
   "metadata": {},
   "outputs": [],
   "source": [
    "\n",
    "\n",
    "\n",
    "\n"
   ]
  }
 ],
 "metadata": {
  "kernelspec": {
   "display_name": "Python 3 (ipykernel)",
   "language": "python",
   "name": "python3"
  },
  "language_info": {
   "codemirror_mode": {
    "name": "ipython",
    "version": 3
   },
   "file_extension": ".py",
   "mimetype": "text/x-python",
   "name": "python",
   "nbconvert_exporter": "python",
   "pygments_lexer": "ipython3",
   "version": "3.10.6"
  }
 },
 "nbformat": 4,
 "nbformat_minor": 5
}
